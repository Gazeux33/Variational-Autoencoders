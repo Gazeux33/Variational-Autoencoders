{
 "cells": [
  {
   "cell_type": "code",
   "id": "initial_id",
   "metadata": {
    "collapsed": true,
    "ExecuteTime": {
     "end_time": "2024-04-25T16:29:39.696871Z",
     "start_time": "2024-04-25T16:29:39.694008Z"
    }
   },
   "source": [
    "import matplotlib.pyplot as plt\n",
    "from random import randint\n",
    "\n",
    "from load_data import train_data,test_data,train_dataloader,test_dataloader\n",
    "from settings import BATCH_SIZE"
   ],
   "outputs": [],
   "execution_count": 25
  },
  {
   "metadata": {
    "ExecuteTime": {
     "end_time": "2024-04-25T16:29:39.700623Z",
     "start_time": "2024-04-25T16:29:39.698187Z"
    }
   },
   "cell_type": "code",
   "source": "train_data.data.shape,train_data.targets.shape,test_data.data.shape,test_data.targets.shape",
   "id": "e03f7bf8638aa2c6",
   "outputs": [
    {
     "data": {
      "text/plain": [
       "(torch.Size([60000, 28, 28]),\n",
       " torch.Size([60000]),\n",
       " torch.Size([10000, 28, 28]),\n",
       " torch.Size([10000]))"
      ]
     },
     "execution_count": 26,
     "metadata": {},
     "output_type": "execute_result"
    }
   ],
   "execution_count": 26
  },
  {
   "metadata": {
    "ExecuteTime": {
     "end_time": "2024-04-25T16:29:39.703469Z",
     "start_time": "2024-04-25T16:29:39.701509Z"
    }
   },
   "cell_type": "code",
   "source": [
    "print(f\"Length of train dataloader: {len(train_dataloader)} batches of {BATCH_SIZE}\")\n",
    "print(f\"Length of test dataloader: {len(test_dataloader)} batches of {BATCH_SIZE}\")"
   ],
   "id": "b502b9e526a86ca1",
   "outputs": [
    {
     "name": "stdout",
     "output_type": "stream",
     "text": [
      "Length of train dataloader: 1875 batches of 32\n",
      "Length of test dataloader: 313 batches of 32\n"
     ]
    }
   ],
   "execution_count": 27
  },
  {
   "metadata": {
    "ExecuteTime": {
     "end_time": "2024-04-25T16:29:39.739847Z",
     "start_time": "2024-04-25T16:29:39.704250Z"
    }
   },
   "cell_type": "code",
   "source": [
    "idx = randint(0,len(train_data))\n",
    "img = train_data.data[idx]\n",
    "plt.imshow(img,cmap=\"gray\")\n",
    "plt.axis(\"off\")\n",
    "plt.title(train_data.classes[train_data.targets[idx]])\n",
    "plt.show()"
   ],
   "id": "24c397729e2f3461",
   "outputs": [
    {
     "data": {
      "text/plain": [
       "<Figure size 640x480 with 1 Axes>"
      ],
      "image/png": "[encoded data removed]"
     },
     "metadata": {},
     "output_type": "display_data"
    }
   ],
   "execution_count": 28
  }
 ],
 "metadata": {
  "kernelspec": {
   "display_name": "Python 3",
   "language": "python",
   "name": "python3"
  },
  "language_info": {
   "codemirror_mode": {
    "name": "ipython",
    "version": 2
   },
   "file_extension": ".py",
   "mimetype": "text/x-python",
   "name": "python",
   "nbconvert_exporter": "python",
   "pygments_lexer": "ipython2",
   "version": "2.7.6"
  }
 },
 "nbformat": 4,
 "nbformat_minor": 5
}
