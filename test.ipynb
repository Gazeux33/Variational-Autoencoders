{
 "cells": [
  {
   "cell_type": "code",
   "id": "initial_id",
   "metadata": {
    "collapsed": true,
    "ExecuteTime": {
     "end_time": "2024-04-25T12:51:30.408356Z",
     "start_time": "2024-04-25T12:51:29.232126Z"
    }
   },
   "source": [
    "import torch\n",
    "from encoder_model import EncoderModelV1\n",
    "from load_data import train_dataloader"
   ],
   "outputs": [],
   "execution_count": 1
  },
  {
   "metadata": {
    "ExecuteTime": {
     "end_time": "2024-04-25T12:51:30.415576Z",
     "start_time": "2024-04-25T12:51:30.409969Z"
    }
   },
   "cell_type": "code",
   "source": "encoder = EncoderModelV1(10)",
   "id": "154d184b820a1864",
   "outputs": [],
   "execution_count": 2
  },
  {
   "metadata": {
    "ExecuteTime": {
     "end_time": "2024-04-25T12:51:30.455277Z",
     "start_time": "2024-04-25T12:51:30.416326Z"
    }
   },
   "cell_type": "code",
   "source": [
    "for features,labels in train_dataloader:\n",
    "    print(features.shape)\n",
    "    z = encoder(features)\n",
    "    print(z.shape)\n",
    "    break"
   ],
   "id": "4d24742ae3e46e26",
   "outputs": [
    {
     "name": "stdout",
     "output_type": "stream",
     "text": [
      "torch.Size([32, 1, 32, 32])\n",
      "torch.Size([32, 10])\n"
     ]
    }
   ],
   "execution_count": 3
  },
  {
   "metadata": {
    "ExecuteTime": {
     "end_time": "2024-04-25T12:51:30.457243Z",
     "start_time": "2024-04-25T12:51:30.455989Z"
    }
   },
   "cell_type": "code",
   "source": "",
   "id": "10385ccf44d62a65",
   "outputs": [],
   "execution_count": 3
  }
 ],
 "metadata": {
  "kernelspec": {
   "display_name": "Python 3",
   "language": "python",
   "name": "python3"
  },
  "language_info": {
   "codemirror_mode": {
    "name": "ipython",
    "version": 2
   },
   "file_extension": ".py",
   "mimetype": "text/x-python",
   "name": "python",
   "nbconvert_exporter": "python",
   "pygments_lexer": "ipython2",
   "version": "2.7.6"
  }
 },
 "nbformat": 4,
 "nbformat_minor": 5
}
