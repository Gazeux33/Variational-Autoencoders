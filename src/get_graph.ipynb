{
 "cells": [
  {
   "cell_type": "code",
   "id": "initial_id",
   "metadata": {
    "collapsed": true,
    "ExecuteTime": {
     "end_time": "2024-05-04T14:28:23.610390Z",
     "start_time": "2024-05-04T14:28:23.605659Z"
    }
   },
   "source": [
    "import torch\n",
    "from torchviz import make_dot\n",
    "from train import autoencoder,test_dataloader,encoder_model,decoder_model"
   ],
   "outputs": [],
   "execution_count": 22
  },
  {
   "metadata": {
    "ExecuteTime": {
     "end_time": "2024-05-04T14:28:24.961911Z",
     "start_time": "2024-05-04T14:28:24.951049Z"
    }
   },
   "cell_type": "code",
   "source": [
    "data = next(iter(test_dataloader))[0]\n",
    "data.shape"
   ],
   "id": "f5b393b94daac9a5",
   "outputs": [
    {
     "data": {
      "text/plain": [
       "torch.Size([32, 1, 32, 32])"
      ]
     },
     "execution_count": 23,
     "metadata": {},
     "output_type": "execute_result"
    }
   ],
   "execution_count": 23
  },
  {
   "metadata": {
    "ExecuteTime": {
     "end_time": "2024-05-04T14:28:26.873809Z",
     "start_time": "2024-05-04T14:28:26.829293Z"
    }
   },
   "cell_type": "code",
   "source": [
    "with torch.no_grad():\n",
    "    encoder_output = encoder_model(data)\n",
    "    z = autoencoder.reparameterize(encoder_output[0],encoder_output[1])\n",
    "    decoder_output = decoder_model(z)"
   ],
   "id": "98227874b4b56b1f",
   "outputs": [],
   "execution_count": 24
  },
  {
   "metadata": {
    "ExecuteTime": {
     "end_time": "2024-05-04T14:28:28.826721Z",
     "start_time": "2024-05-04T14:28:28.656561Z"
    }
   },
   "cell_type": "code",
   "source": [
    "make_dot(encoder_output,params=dict(list(encoder_model.named_parameters()))).render(\"encoder_graph\",format=\"png\")\n",
    "make_dot(decoder_output,params=dict(list(decoder_model.named_parameters()))).render(\"decoder_graph\",format=\"png\");"
   ],
   "id": "ed2280307f410207",
   "outputs": [
    {
     "data": {
      "text/plain": [
       "'decoder_graph.png'"
      ]
     },
     "execution_count": 25,
     "metadata": {},
     "output_type": "execute_result"
    }
   ],
   "execution_count": 25
  }
 ],
 "metadata": {
  "kernelspec": {
   "display_name": "Python 3",
   "language": "python",
   "name": "python3"
  },
  "language_info": {
   "codemirror_mode": {
    "name": "ipython",
    "version": 2
   },
   "file_extension": ".py",
   "mimetype": "text/x-python",
   "name": "python",
   "nbconvert_exporter": "python",
   "pygments_lexer": "ipython2",
   "version": "2.7.6"
  }
 },
 "nbformat": 4,
 "nbformat_minor": 5
}
